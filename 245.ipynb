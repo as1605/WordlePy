{
 "cells": [
  {
   "cell_type": "code",
   "execution_count": 1,
   "id": "98e9064a",
   "metadata": {},
   "outputs": [],
   "source": [
    "import wordle as wd"
   ]
  },
  {
   "cell_type": "code",
   "execution_count": 2,
   "id": "246a6d85",
   "metadata": {},
   "outputs": [],
   "source": [
    "wlist = wd.load()"
   ]
  },
  {
   "cell_type": "code",
   "execution_count": 4,
   "id": "a51c2f79",
   "metadata": {},
   "outputs": [
    {
     "data": {
      "text/plain": [
       "{'J': 27,\n",
       " 'Q': 29,\n",
       " 'X': 37,\n",
       " 'Z': 40,\n",
       " 'V': 152,\n",
       " 'W': 194,\n",
       " 'K': 210,\n",
       " 'F': 229,\n",
       " 'B': 280,\n",
       " 'G': 310,\n",
       " 'M': 316,\n",
       " 'P': 365,\n",
       " 'H': 387,\n",
       " 'D': 393,\n",
       " 'Y': 424,\n",
       " 'U': 466,\n",
       " 'C': 475,\n",
       " 'N': 573,\n",
       " 'S': 668,\n",
       " 'I': 670,\n",
       " 'L': 716,\n",
       " 'T': 729,\n",
       " 'O': 753,\n",
       " 'R': 897,\n",
       " 'A': 975,\n",
       " 'E': 1230}"
      ]
     },
     "execution_count": 4,
     "metadata": {},
     "output_type": "execute_result"
    }
   ],
   "source": [
    "wd.stats(wlist)"
   ]
  },
  {
   "cell_type": "code",
   "execution_count": 11,
   "id": "495c77fa",
   "metadata": {},
   "outputs": [
    {
     "name": "stdout",
     "output_type": "stream",
     "text": [
      "['ADORE', 'AROSE', 'OPERA']\n"
     ]
    }
   ],
   "source": [
    "# E A R O are very popular\n",
    "g1 = wd.query(wlist, contains=['E','A','R','O'])\n",
    "print(g1)"
   ]
  },
  {
   "cell_type": "code",
   "execution_count": 18,
   "id": "5eedf3b3",
   "metadata": {},
   "outputs": [
    {
     "name": "stdout",
     "output_type": "stream",
     "text": [
      "{'A': 0, 'E': 0, 'O': 0, 'R': 0, 'S': 0, 'X': 1, 'J': 3, 'Q': 3, 'V': 8, 'Z': 8, 'W': 12, 'B': 23, 'K': 25, 'F': 36, 'G': 36, 'D': 38, 'M': 41, 'P': 45, 'H': 61, 'T': 61, 'C': 64, 'N': 64, 'Y': 77, 'L': 85, 'U': 85, 'I': 134}\n",
      "['BUILD', 'BUILT', 'FLUID', 'GUILD', 'GUILT', 'LUCID', 'PUPIL', 'QUILL', 'QUILT', 'TULIP', 'UNLIT', 'UNTIL']\n",
      "['UNLIT', 'UNTIL']\n",
      "['LUCID']\n"
     ]
    }
   ],
   "source": [
    "#['ADORE', 'AROSE', 'OPERA'] => picking AROSE because frequency of S > D > P\n",
    "# AROSE => A-black, R-black, O-black, S-yellow, E-black\n",
    "# For 2nd guess, we pick from words which do not have these letters, to cover most letters\n",
    "g2 = wd.query(wlist, not_contains=['A', 'R', 'O', 'S', 'E'])\n",
    "print(wd.stats(g2))\n",
    "# We see that I U L are popular\n",
    "print(wd.query(g2, contains=['I','U','L']))\n",
    "# There are none with Y, so will take the one with N or C\n",
    "print(wd.query(g2, contains = ['I','U','L','N']))\n",
    "print(wd.query(g2, contains = ['I','U','L','C']))"
   ]
  },
  {
   "cell_type": "code",
   "execution_count": 23,
   "id": "4c7d8154",
   "metadata": {},
   "outputs": [
    {
     "name": "stdout",
     "output_type": "stream",
     "text": [
      "['SKILL', 'SPILL', 'SWILL']\n",
      "['KAPPA', 'PARKA', 'PERKY', 'PESKY', 'PICKY', 'PINKY', 'PLANK', 'PLUCK', 'PLUNK', 'POKER', 'POLKA', 'PRANK', 'PRICK', 'SKIMP', 'SPANK', 'SPARK', 'SPEAK', 'SPECK', 'SPIKE', 'SPIKY', 'SPOKE', 'SPOOK', 'SPUNK']\n"
     ]
    }
   ],
   "source": [
    "# ['UNLIT', 'UNTIL'],  ['LUCID'] => Picking UNTIL arbitrarily\n",
    "# UNTIL => U-black, N-black, T-black, I-yellow, L-green\n",
    "# For seeing the options which are possible now, now we can combine blacks, yellow, green from g1 g2\n",
    "print(wd.query(wlist, positions={4:'L'}, contains = ['S', 'I'], not_contains=['A', 'R', 'O', 'E', 'U', 'N', 'T']))\n",
    "# Final word is from ['SKILL', 'SPILL', 'SWILL'], so for 3rd guess, we need to check if the word contains P or K or W\n",
    "# Now, we can just check for P,K. \n",
    "# If actual word is SKILL, then we will get P-black, K-yellow/green\n",
    "# If actual word is SPILL, then we will get P-yellow/green, K-black\n",
    "# If actual word is SWILL, then we will get P-black, K-black\n",
    "g3 = wd.query(wlist, contains=['P','K'])\n",
    "print(g3)"
   ]
  },
  {
   "cell_type": "code",
   "execution_count": 24,
   "id": "30fb4a97",
   "metadata": {},
   "outputs": [],
   "source": [
    "#['KAPPA', 'PARKA', 'PERKY', 'PESKY', 'PICKY', 'PINKY', 'PLANK', 'PLUCK', 'PLUNK', 'POKER', 'POLKA', 'PRANK', 'PRICK', 'SKIMP', 'SPANK', 'SPARK', 'SPEAK', 'SPECK', 'SPIKE', 'SPIKY', 'SPOKE', 'SPOOK', 'SPUNK']\n",
    "# Picked PESKY arbitrarily\n",
    "# PESKY => P-black, E-black, S-yellow, K-black, Y-black\n",
    "# This means the answer is SWILL\n",
    "# SWILL => S-green, W-green, I-green, L-green, L-green!"
   ]
  },
  {
   "cell_type": "code",
   "execution_count": null,
   "id": "91e9f394",
   "metadata": {},
   "outputs": [],
   "source": []
  }
 ],
 "metadata": {
  "kernelspec": {
   "display_name": "Python 3 (ipykernel)",
   "language": "python",
   "name": "python3"
  },
  "language_info": {
   "codemirror_mode": {
    "name": "ipython",
    "version": 3
   },
   "file_extension": ".py",
   "mimetype": "text/x-python",
   "name": "python",
   "nbconvert_exporter": "python",
   "pygments_lexer": "ipython3",
   "version": "3.8.2"
  }
 },
 "nbformat": 4,
 "nbformat_minor": 5
}
