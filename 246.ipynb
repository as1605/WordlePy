{
 "cells": [
  {
   "cell_type": "code",
   "execution_count": 1,
   "id": "e0640b31",
   "metadata": {},
   "outputs": [],
   "source": [
    "from wordle import *"
   ]
  },
  {
   "cell_type": "code",
   "execution_count": 2,
   "id": "0788a6df",
   "metadata": {},
   "outputs": [
    {
     "data": {
      "text/plain": [
       "{'J': 27,\n",
       " 'Q': 29,\n",
       " 'X': 37,\n",
       " 'Z': 40,\n",
       " 'V': 152,\n",
       " 'W': 194,\n",
       " 'K': 210,\n",
       " 'F': 229,\n",
       " 'B': 280,\n",
       " 'G': 310,\n",
       " 'M': 316,\n",
       " 'P': 365,\n",
       " 'H': 387,\n",
       " 'D': 393,\n",
       " 'Y': 424,\n",
       " 'U': 466,\n",
       " 'C': 475,\n",
       " 'N': 573,\n",
       " 'S': 668,\n",
       " 'I': 670,\n",
       " 'L': 716,\n",
       " 'T': 729,\n",
       " 'O': 753,\n",
       " 'R': 897,\n",
       " 'A': 975,\n",
       " 'E': 1230}"
      ]
     },
     "execution_count": 2,
     "metadata": {},
     "output_type": "execute_result"
    }
   ],
   "source": [
    "wl = l()\n",
    "s(wl)"
   ]
  },
  {
   "cell_type": "code",
   "execution_count": 3,
   "id": "7523bbe3",
   "metadata": {},
   "outputs": [
    {
     "name": "stdout",
     "output_type": "stream",
     "text": [
      "['ACORN', 'ACTOR', 'AISLE', 'ALERT', 'ALIEN', 'ALLOT', 'ALONE', 'ALTAR', 'ALTER', 'ANTIC', 'AORTA', 'ARENA', 'ARISE', 'AROSE', 'ARSON', 'ASCOT', 'ASSET', 'ATOLL', 'ATONE', 'ATTIC', 'CACAO', 'CACTI', 'CAIRN', 'CANAL', 'CANOE', 'CANON', 'CARAT', 'CAROL', 'CASTE', 'CATER', 'CEASE', 'CELLO', 'CIRCA', 'CLASS', 'CLEAN', 'CLEAR', 'CLEAT', 'CLONE', 'CLOSE', 'COAST', 'COCOA', 'COLON', 'COLOR', 'CONIC', 'CORAL', 'CORER', 'CRANE', 'CRASS', 'CRATE', 'CRESS', 'CREST', 'CRIER', 'CRONE', 'CROSS', 'EASEL', 'EATEN', 'EATER', 'ECLAT', 'EERIE', 'ELATE', 'ELECT', 'ELITE', 'ENACT', 'ENTER', 'ERASE', 'ERECT', 'ERROR', 'ESTER', 'ILIAC', 'INANE', 'INERT', 'INLET', 'INNER', 'INTER', 'INTRO', 'IONIC', 'IRATE', 'ISLET', 'LANCE', 'LASSO', 'LATER', 'LATTE', 'LEANT', 'LEARN', 'LEASE', 'LEAST', 'LILAC', 'LINEN', 'LINER', 'LOCAL', 'LOOSE', 'LOSER', 'NASAL', 'NATAL', 'NICER', 'NIECE', 'NOISE', 'NOOSE', 'OCEAN', 'OCTAL', 'OCTET', 'ONION', 'ONSET', 'OTTER', 'RACER', 'RAISE', 'RARER', 'RATIO', 'REACT', 'RELIC', 'RENAL', 'RESET', 'RESIN', 'RETRO', 'RINSE', 'RISEN', 'RISER', 'ROAST', 'ROOST', 'ROTOR', 'SAINT', 'SALON', 'SALSA', 'SANER', 'SATIN', 'SCALE', 'SCANT', 'SCARE', 'SCENE', 'SCENT', 'SCION', 'SCONE', 'SCORE', 'SCORN', 'SCREE', 'SENSE', 'SINCE', 'SIREN', 'SLAIN', 'SLANT', 'SLATE', 'SLEET', 'SLICE', 'SNAIL', 'SNARE', 'SNARL', 'SNEER', 'SNORE', 'SNORT', 'SOLAR', 'SONAR', 'SONIC', 'STAIN', 'STAIR', 'STALE', 'STALL', 'STARE', 'START', 'STATE', 'STEAL', 'STEEL', 'STEER', 'STEIN', 'STERN', 'STILL', 'STILT', 'STINT', 'STOIC', 'STOLE', 'STONE', 'STOOL', 'STORE', 'TACIT', 'TAINT', 'TALON', 'TAROT', 'TASTE', 'TEASE', 'TENET', 'TENOR', 'TENSE', 'TERRA', 'TERSE', 'TIARA', 'TITAN', 'TITLE', 'TOAST', 'TONAL', 'TONIC', 'TORSO', 'TOTAL', 'TRACE', 'TRACT', 'TRAIL', 'TRAIN', 'TRAIT', 'TREAT', 'TRIAL', 'TRICE', 'TRITE', 'TROLL']\n"
     ]
    }
   ],
   "source": [
    "# We want first 2 guesses to include top 10 letters, so we will remove bottom 16 letters\n",
    "g1 = q(wl, not_contains=\"JQXZVWKFBGMPHDYU\")\n",
    "print(g1)\n",
    "# Pick ACORN to be Guess 1\n",
    "# ACORN => A-yellow, C-yellow, O-black, R-black, N-black"
   ]
  },
  {
   "cell_type": "code",
   "execution_count": 4,
   "id": "c0fb235f",
   "metadata": {},
   "outputs": [
    {
     "name": "stdout",
     "output_type": "stream",
     "text": [
      "['ELITE', 'ISLET', 'SLEET', 'STEEL', 'STILL', 'STILT', 'TITLE']\n"
     ]
    }
   ],
   "source": [
    "g2 = q(g1, not_contains=\"ACORN\")\n",
    "print(g2)\n",
    "# Pick ISLET to be Guess 2\n",
    "# ISLET => I-yellow, S-black, L-black, E-black, T-green"
   ]
  },
  {
   "cell_type": "code",
   "execution_count": 5,
   "id": "4bc943d4",
   "metadata": {},
   "outputs": [
    {
     "name": "stdout",
     "output_type": "stream",
     "text": [
      "['TACIT']\n"
     ]
    }
   ],
   "source": [
    "g3 = q(wl, contains=\"ACI\", not_contains=\"ORNSLE\", positions={4:'T'})\n",
    "print(g3)\n",
    "# Pick TACIT to be Guess 3\n",
    "# TACIT => T-green, A-green, C-green, I-green, T-green"
   ]
  },
  {
   "cell_type": "code",
   "execution_count": null,
   "id": "1e1c16ce",
   "metadata": {},
   "outputs": [],
   "source": []
  }
 ],
 "metadata": {
  "kernelspec": {
   "display_name": "Python 3 (ipykernel)",
   "language": "python",
   "name": "python3"
  },
  "language_info": {
   "codemirror_mode": {
    "name": "ipython",
    "version": 3
   },
   "file_extension": ".py",
   "mimetype": "text/x-python",
   "name": "python",
   "nbconvert_exporter": "python",
   "pygments_lexer": "ipython3",
   "version": "3.8.2"
  }
 },
 "nbformat": 4,
 "nbformat_minor": 5
}
