{
 "cells": [
  {
   "cell_type": "code",
   "execution_count": 1,
   "id": "307376cc",
   "metadata": {},
   "outputs": [],
   "source": [
    "from wordle import *"
   ]
  },
  {
   "cell_type": "code",
   "execution_count": 4,
   "id": "c87e02a3",
   "metadata": {},
   "outputs": [
    {
     "data": {
      "text/plain": [
       "{'J': 27,\n",
       " 'Q': 29,\n",
       " 'X': 37,\n",
       " 'Z': 40,\n",
       " 'V': 152,\n",
       " 'W': 194,\n",
       " 'K': 210,\n",
       " 'F': 229,\n",
       " 'B': 280,\n",
       " 'G': 310,\n",
       " 'M': 316,\n",
       " 'P': 365,\n",
       " 'H': 387,\n",
       " 'D': 393,\n",
       " 'Y': 424,\n",
       " 'U': 466,\n",
       " 'C': 475,\n",
       " 'N': 573,\n",
       " 'S': 668,\n",
       " 'I': 670,\n",
       " 'L': 716,\n",
       " 'T': 729,\n",
       " 'O': 753,\n",
       " 'R': 897,\n",
       " 'A': 975,\n",
       " 'E': 1230}"
      ]
     },
     "execution_count": 4,
     "metadata": {},
     "output_type": "execute_result"
    }
   ],
   "source": [
    "w = l()\n",
    "s(w)"
   ]
  },
  {
   "cell_type": "code",
   "execution_count": 10,
   "id": "4d92eab3",
   "metadata": {},
   "outputs": [
    {
     "name": "stdout",
     "output_type": "stream",
     "text": [
      "{'J': 27, 'Q': 29, 'X': 37, 'Z': 40, 'V': 152, 'W': 194, 'K': 210, 'F': 229, 'B': 280, 'G': 310, 'M': 316, 'P': 365, 'H': 387, 'D': 393, 'Y': 424, 'U': 466, 'C': 475, 'N': 573, 'S': 668, 'I': 670, 'L': 716, 'T': 729, 'O': 753, 'R': 897, 'A': 975, 'E': 1230}\n",
      "{'X': 0, 'Z': 3, 'Y': 6, 'J': 20, 'K': 20, 'Q': 23, 'U': 33, 'I': 34, 'N': 37, 'O': 41, 'V': 43, 'H': 69, 'E': 72, 'W': 82, 'L': 87, 'R': 105, 'M': 107, 'D': 111, 'G': 115, 'F': 135, 'A': 140, 'P': 141, 'T': 149, 'B': 173, 'C': 198, 'S': 365}\n",
      "{'J': 2, 'Z': 2, 'Q': 5, 'F': 8, 'K': 10, 'G': 11, 'X': 14, 'V': 15, 'B': 16, 'S': 16, 'D': 20, 'Y': 22, 'M': 38, 'C': 40, 'W': 44, 'P': 61, 'T': 77, 'N': 87, 'H': 144, 'U': 185, 'L': 200, 'I': 201, 'E': 241, 'R': 267, 'O': 279, 'A': 304}\n",
      "{'Q': 1, 'J': 3, 'H': 9, 'Z': 11, 'K': 12, 'X': 12, 'F': 25, 'W': 26, 'Y': 29, 'V': 49, 'B': 56, 'C': 56, 'P': 57, 'M': 61, 'G': 67, 'D': 75, 'S': 80, 'T': 111, 'L': 112, 'N': 137, 'R': 163, 'U': 165, 'E': 177, 'O': 243, 'I': 266, 'A': 306}\n",
      "{'Q': 0, 'J': 2, 'X': 3, 'Y': 3, 'Z': 20, 'B': 24, 'W': 25, 'H': 28, 'F': 35, 'V': 45, 'P': 50, 'K': 55, 'M': 68, 'D': 69, 'G': 76, 'U': 82, 'O': 132, 'T': 139, 'C': 150, 'R': 150, 'I': 158, 'A': 162, 'L': 162, 'S': 171, 'N': 182, 'E': 318}\n",
      "{'J': 0, 'Q': 0, 'V': 0, 'U': 1, 'Z': 4, 'X': 8, 'B': 11, 'I': 11, 'W': 17, 'F': 26, 'C': 31, 'S': 36, 'G': 41, 'M': 42, 'P': 56, 'O': 58, 'A': 63, 'K': 113, 'D': 118, 'N': 130, 'H': 137, 'L': 155, 'R': 212, 'T': 253, 'Y': 364, 'E': 422}\n"
     ]
    }
   ],
   "source": [
    "top10 = q(w, not_contains = \"JQXZVWKFBGMPHDYU\")\n",
    "print(s(w))\n",
    "# We want to see which letter is most common at which position\n",
    "print(s([a[0] for a in w]))\n",
    "print(s([a[1] for a in w]))\n",
    "print(s([a[2] for a in w]))\n",
    "print(s([a[3] for a in w]))\n",
    "print(s([a[4] for a in w]))"
   ]
  },
  {
   "cell_type": "code",
   "execution_count": 17,
   "id": "22f91a68",
   "metadata": {},
   "outputs": [
    {
     "name": "stdout",
     "output_type": "stream",
     "text": [
      "['SCALE', 'SCARE', 'SLATE', 'SNARE', 'STALE', 'STARE', 'STATE']\n",
      "SCALE\n",
      "['INTRO', 'ONION', 'ROTOR']\n",
      "SCARE\n",
      "['ONION']\n",
      "SLATE\n",
      "['CONIC', 'IONIC', 'ONION']\n",
      "SNARE\n",
      "[]\n",
      "STALE\n",
      "['CONIC', 'IONIC', 'ONION']\n",
      "STARE\n",
      "['COLON', 'CONIC', 'IONIC', 'ONION']\n",
      "STATE\n",
      "['COLON', 'COLOR', 'CONIC', 'IONIC', 'ONION']\n"
     ]
    }
   ],
   "source": [
    "g1 = q(top10, positions={4:'E', 0:'S', 2:'A'})\n",
    "print(g1)\n",
    "for word in g1:\n",
    "    print(word)\n",
    "    print(q(top10, not_contains=word))"
   ]
  },
  {
   "cell_type": "code",
   "execution_count": 29,
   "id": "cea7c75c",
   "metadata": {},
   "outputs": [
    {
     "name": "stdout",
     "output_type": "stream",
     "text": [
      "['OTHER', 'TENOR', 'TOWER']\n",
      "{'A': 0, 'B': 0, 'C': 0, 'D': 0, 'F': 0, 'G': 0, 'I': 0, 'J': 0, 'K': 0, 'L': 0, 'M': 0, 'P': 0, 'Q': 0, 'S': 0, 'U': 0, 'V': 0, 'X': 0, 'Y': 0, 'Z': 0, 'H': 1, 'N': 1, 'W': 1, 'E': 3, 'O': 3, 'R': 3, 'T': 3}\n",
      "{'A': 0, 'B': 0, 'C': 0, 'D': 0, 'E': 0, 'F': 0, 'G': 0, 'H': 0, 'I': 0, 'J': 0, 'K': 0, 'L': 0, 'M': 0, 'N': 0, 'P': 0, 'Q': 0, 'R': 0, 'S': 0, 'U': 0, 'V': 0, 'W': 0, 'X': 0, 'Y': 0, 'Z': 0, 'O': 1, 'T': 2}\n",
      "{'A': 0, 'B': 0, 'C': 0, 'D': 0, 'F': 0, 'G': 0, 'H': 0, 'I': 0, 'J': 0, 'K': 0, 'L': 0, 'M': 0, 'N': 0, 'P': 0, 'Q': 0, 'R': 0, 'S': 0, 'U': 0, 'V': 0, 'W': 0, 'X': 0, 'Y': 0, 'Z': 0, 'E': 1, 'O': 1, 'T': 1}\n",
      "{'A': 0, 'B': 0, 'C': 0, 'D': 0, 'E': 0, 'F': 0, 'G': 0, 'I': 0, 'J': 0, 'K': 0, 'L': 0, 'M': 0, 'O': 0, 'P': 0, 'Q': 0, 'R': 0, 'S': 0, 'T': 0, 'U': 0, 'V': 0, 'X': 0, 'Y': 0, 'Z': 0, 'H': 1, 'N': 1, 'W': 1}\n",
      "{'A': 0, 'B': 0, 'C': 0, 'D': 0, 'F': 0, 'G': 0, 'H': 0, 'I': 0, 'J': 0, 'K': 0, 'L': 0, 'M': 0, 'N': 0, 'P': 0, 'Q': 0, 'R': 0, 'S': 0, 'T': 0, 'U': 0, 'V': 0, 'W': 0, 'X': 0, 'Y': 0, 'Z': 0, 'O': 1, 'E': 2}\n",
      "{'A': 0, 'B': 0, 'C': 0, 'D': 0, 'E': 0, 'F': 0, 'G': 0, 'H': 0, 'I': 0, 'J': 0, 'K': 0, 'L': 0, 'M': 0, 'N': 0, 'O': 0, 'P': 0, 'Q': 0, 'S': 0, 'T': 0, 'U': 0, 'V': 0, 'W': 0, 'X': 0, 'Y': 0, 'Z': 0, 'R': 3}\n"
     ]
    },
    {
     "data": {
      "text/plain": [
       "['TOWER']"
      ]
     },
     "execution_count": 29,
     "metadata": {},
     "output_type": "execute_result"
    }
   ],
   "source": [
    "#We go with g1 = SCALE\n",
    "#SCALE => S-black, C-black, A-black, L-black, E-yellow\n",
    "#No greens so g2 = INTRO\n",
    "#INTRO => I-black, N-black, T-yellow, R-yellow, O-yellow\n",
    "g3 = q(w, contains=\"ETRO\", not_positions={4:'E', 2:'T', 3:'R'})\n",
    "g3 = q(g3, not_positions={4:'O'})\n",
    "print(g3)\n",
    "print(s(g3))\n",
    "# We want to see which letter is most common at which position\n",
    "print(s([a[0] for a in g3]))\n",
    "print(s([a[1] for a in g3]))\n",
    "print(s([a[2] for a in g3]))\n",
    "print(s([a[3] for a in g3]))\n",
    "print(s([a[4] for a in g3]))\n",
    "q(g3, positions={0:'T',3:'E', 4:'R'})"
   ]
  },
  {
   "cell_type": "code",
   "execution_count": 30,
   "id": "f7da0930",
   "metadata": {},
   "outputs": [],
   "source": [
    "# We go with g3 = TOWER\n",
    "# TOWER => T-yellow, O-yellow, W-black, E-green, R-green\n",
    "# g4 = OTHER\n",
    "# Wordle 247 4/6\n",
    "#\n",
    "# ⬛⬛⬛⬛🟨\n",
    "# ⬛⬛🟨🟨🟨\n",
    "# 🟨🟨⬛🟩🟩\n",
    "# 🟩🟩🟩🟩🟩"
   ]
  },
  {
   "cell_type": "code",
   "execution_count": null,
   "id": "85b9eec6",
   "metadata": {},
   "outputs": [],
   "source": []
  }
 ],
 "metadata": {
  "kernelspec": {
   "display_name": "Python 3 (ipykernel)",
   "language": "python",
   "name": "python3"
  },
  "language_info": {
   "codemirror_mode": {
    "name": "ipython",
    "version": 3
   },
   "file_extension": ".py",
   "mimetype": "text/x-python",
   "name": "python",
   "nbconvert_exporter": "python",
   "pygments_lexer": "ipython3",
   "version": "3.8.2"
  }
 },
 "nbformat": 4,
 "nbformat_minor": 5
}
