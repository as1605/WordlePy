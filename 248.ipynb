{
 "cells": [
  {
   "cell_type": "code",
   "execution_count": 1,
   "id": "db5b38b9",
   "metadata": {},
   "outputs": [],
   "source": [
    "from wordle import *"
   ]
  },
  {
   "cell_type": "code",
   "execution_count": 2,
   "id": "bec67acc",
   "metadata": {},
   "outputs": [],
   "source": [
    "L = l()"
   ]
  },
  {
   "cell_type": "code",
   "execution_count": 3,
   "id": "c3cda211",
   "metadata": {},
   "outputs": [
    {
     "data": {
      "text/plain": [
       "{'J': 27,\n",
       " 'Q': 29,\n",
       " 'X': 37,\n",
       " 'Z': 40,\n",
       " 'V': 152,\n",
       " 'W': 194,\n",
       " 'K': 210,\n",
       " 'F': 229,\n",
       " 'B': 280,\n",
       " 'G': 310,\n",
       " 'M': 316,\n",
       " 'P': 365,\n",
       " 'H': 387,\n",
       " 'D': 393,\n",
       " 'Y': 424,\n",
       " 'U': 466,\n",
       " 'C': 475,\n",
       " 'N': 573,\n",
       " 'S': 668,\n",
       " 'I': 670,\n",
       " 'L': 716,\n",
       " 'T': 729,\n",
       " 'O': 753,\n",
       " 'R': 897,\n",
       " 'A': 975,\n",
       " 'E': 1230}"
      ]
     },
     "execution_count": 3,
     "metadata": {},
     "output_type": "execute_result"
    }
   ],
   "source": [
    "s(L)"
   ]
  },
  {
   "cell_type": "code",
   "execution_count": 4,
   "id": "c7abf5a6",
   "metadata": {},
   "outputs": [
    {
     "data": {
      "text/plain": [
       "['ACORN',\n",
       " 'ACTOR',\n",
       " 'AISLE',\n",
       " 'ALERT',\n",
       " 'ALIEN',\n",
       " 'ALLOT',\n",
       " 'ALONE',\n",
       " 'ALTAR',\n",
       " 'ALTER',\n",
       " 'ANTIC',\n",
       " 'AORTA',\n",
       " 'ARENA',\n",
       " 'ARISE',\n",
       " 'AROSE',\n",
       " 'ARSON',\n",
       " 'ASCOT',\n",
       " 'ASSET',\n",
       " 'ATOLL',\n",
       " 'ATONE',\n",
       " 'ATTIC',\n",
       " 'CACAO',\n",
       " 'CACTI',\n",
       " 'CAIRN',\n",
       " 'CANAL',\n",
       " 'CANOE',\n",
       " 'CANON',\n",
       " 'CARAT',\n",
       " 'CAROL',\n",
       " 'CASTE',\n",
       " 'CATER',\n",
       " 'CEASE',\n",
       " 'CELLO',\n",
       " 'CIRCA',\n",
       " 'CLASS',\n",
       " 'CLEAN',\n",
       " 'CLEAR',\n",
       " 'CLEAT',\n",
       " 'CLONE',\n",
       " 'CLOSE',\n",
       " 'COAST',\n",
       " 'COCOA',\n",
       " 'COLON',\n",
       " 'COLOR',\n",
       " 'CONIC',\n",
       " 'CORAL',\n",
       " 'CORER',\n",
       " 'CRANE',\n",
       " 'CRASS',\n",
       " 'CRATE',\n",
       " 'CRESS',\n",
       " 'CREST',\n",
       " 'CRIER',\n",
       " 'CRONE',\n",
       " 'CROSS',\n",
       " 'EASEL',\n",
       " 'EATEN',\n",
       " 'EATER',\n",
       " 'ECLAT',\n",
       " 'EERIE',\n",
       " 'ELATE',\n",
       " 'ELECT',\n",
       " 'ELITE',\n",
       " 'ENACT',\n",
       " 'ENTER',\n",
       " 'ERASE',\n",
       " 'ERECT',\n",
       " 'ERROR',\n",
       " 'ESTER',\n",
       " 'ILIAC',\n",
       " 'INANE',\n",
       " 'INERT',\n",
       " 'INLET',\n",
       " 'INNER',\n",
       " 'INTER',\n",
       " 'INTRO',\n",
       " 'IONIC',\n",
       " 'IRATE',\n",
       " 'ISLET',\n",
       " 'LANCE',\n",
       " 'LASSO',\n",
       " 'LATER',\n",
       " 'LATTE',\n",
       " 'LEANT',\n",
       " 'LEARN',\n",
       " 'LEASE',\n",
       " 'LEAST',\n",
       " 'LILAC',\n",
       " 'LINEN',\n",
       " 'LINER',\n",
       " 'LOCAL',\n",
       " 'LOOSE',\n",
       " 'LOSER',\n",
       " 'NASAL',\n",
       " 'NATAL',\n",
       " 'NICER',\n",
       " 'NIECE',\n",
       " 'NOISE',\n",
       " 'NOOSE',\n",
       " 'OCEAN',\n",
       " 'OCTAL',\n",
       " 'OCTET',\n",
       " 'ONION',\n",
       " 'ONSET',\n",
       " 'OTTER',\n",
       " 'RACER',\n",
       " 'RAISE',\n",
       " 'RARER',\n",
       " 'RATIO',\n",
       " 'REACT',\n",
       " 'RELIC',\n",
       " 'RENAL',\n",
       " 'RESET',\n",
       " 'RESIN',\n",
       " 'RETRO',\n",
       " 'RINSE',\n",
       " 'RISEN',\n",
       " 'RISER',\n",
       " 'ROAST',\n",
       " 'ROOST',\n",
       " 'ROTOR',\n",
       " 'SAINT',\n",
       " 'SALON',\n",
       " 'SALSA',\n",
       " 'SANER',\n",
       " 'SATIN',\n",
       " 'SCALE',\n",
       " 'SCANT',\n",
       " 'SCARE',\n",
       " 'SCENE',\n",
       " 'SCENT',\n",
       " 'SCION',\n",
       " 'SCONE',\n",
       " 'SCORE',\n",
       " 'SCORN',\n",
       " 'SCREE',\n",
       " 'SENSE',\n",
       " 'SINCE',\n",
       " 'SIREN',\n",
       " 'SLAIN',\n",
       " 'SLANT',\n",
       " 'SLATE',\n",
       " 'SLEET',\n",
       " 'SLICE',\n",
       " 'SNAIL',\n",
       " 'SNARE',\n",
       " 'SNARL',\n",
       " 'SNEER',\n",
       " 'SNORE',\n",
       " 'SNORT',\n",
       " 'SOLAR',\n",
       " 'SONAR',\n",
       " 'SONIC',\n",
       " 'STAIN',\n",
       " 'STAIR',\n",
       " 'STALE',\n",
       " 'STALL',\n",
       " 'STARE',\n",
       " 'START',\n",
       " 'STATE',\n",
       " 'STEAL',\n",
       " 'STEEL',\n",
       " 'STEER',\n",
       " 'STEIN',\n",
       " 'STERN',\n",
       " 'STILL',\n",
       " 'STILT',\n",
       " 'STINT',\n",
       " 'STOIC',\n",
       " 'STOLE',\n",
       " 'STONE',\n",
       " 'STOOL',\n",
       " 'STORE',\n",
       " 'TACIT',\n",
       " 'TAINT',\n",
       " 'TALON',\n",
       " 'TAROT',\n",
       " 'TASTE',\n",
       " 'TEASE',\n",
       " 'TENET',\n",
       " 'TENOR',\n",
       " 'TENSE',\n",
       " 'TERRA',\n",
       " 'TERSE',\n",
       " 'TIARA',\n",
       " 'TITAN',\n",
       " 'TITLE',\n",
       " 'TOAST',\n",
       " 'TONAL',\n",
       " 'TONIC',\n",
       " 'TORSO',\n",
       " 'TOTAL',\n",
       " 'TRACE',\n",
       " 'TRACT',\n",
       " 'TRAIL',\n",
       " 'TRAIN',\n",
       " 'TRAIT',\n",
       " 'TREAT',\n",
       " 'TRIAL',\n",
       " 'TRICE',\n",
       " 'TRITE',\n",
       " 'TROLL']"
      ]
     },
     "execution_count": 4,
     "metadata": {},
     "output_type": "execute_result"
    }
   ],
   "source": [
    "top10 = q(L, not_contains=\"JQXZVWKFBGMPHDYU\")\n",
    "top10"
   ]
  },
  {
   "cell_type": "code",
   "execution_count": 5,
   "id": "d1cc3dcf",
   "metadata": {},
   "outputs": [
    {
     "name": "stdout",
     "output_type": "stream",
     "text": [
      "{'X': 0, 'Z': 3, 'Y': 6, 'J': 20, 'K': 20, 'Q': 23, 'U': 33, 'I': 34, 'N': 37, 'O': 41, 'V': 43, 'H': 69, 'E': 72, 'W': 82, 'L': 87, 'R': 105, 'M': 107, 'D': 111, 'G': 115, 'F': 135, 'A': 140, 'P': 141, 'T': 149, 'B': 173, 'C': 198, 'S': 365}\n",
      "{'J': 2, 'Z': 2, 'Q': 5, 'F': 8, 'K': 10, 'G': 11, 'X': 14, 'V': 15, 'B': 16, 'S': 16, 'D': 20, 'Y': 22, 'M': 38, 'C': 40, 'W': 44, 'P': 61, 'T': 77, 'N': 87, 'H': 144, 'U': 185, 'L': 200, 'I': 201, 'E': 241, 'R': 267, 'O': 279, 'A': 304}\n",
      "{'Q': 1, 'J': 3, 'H': 9, 'Z': 11, 'K': 12, 'X': 12, 'F': 25, 'W': 26, 'Y': 29, 'V': 49, 'B': 56, 'C': 56, 'P': 57, 'M': 61, 'G': 67, 'D': 75, 'S': 80, 'T': 111, 'L': 112, 'N': 137, 'R': 163, 'U': 165, 'E': 177, 'O': 243, 'I': 266, 'A': 306}\n",
      "{'Q': 0, 'J': 2, 'X': 3, 'Y': 3, 'Z': 20, 'B': 24, 'W': 25, 'H': 28, 'F': 35, 'V': 45, 'P': 50, 'K': 55, 'M': 68, 'D': 69, 'G': 76, 'U': 82, 'O': 132, 'T': 139, 'C': 150, 'R': 150, 'I': 158, 'A': 162, 'L': 162, 'S': 171, 'N': 182, 'E': 318}\n",
      "{'J': 0, 'Q': 0, 'V': 0, 'U': 1, 'Z': 4, 'X': 8, 'B': 11, 'I': 11, 'W': 17, 'F': 26, 'C': 31, 'S': 36, 'G': 41, 'M': 42, 'P': 56, 'O': 58, 'A': 63, 'K': 113, 'D': 118, 'N': 130, 'H': 137, 'L': 155, 'R': 212, 'T': 253, 'Y': 364, 'E': 422}\n"
     ]
    }
   ],
   "source": [
    "print(s([a[0] for a in L]))\n",
    "print(s([a[1] for a in L]))\n",
    "print(s([a[2] for a in L]))\n",
    "print(s([a[3] for a in L]))\n",
    "print(s([a[4] for a in L]))"
   ]
  },
  {
   "cell_type": "code",
   "execution_count": 6,
   "id": "fd88f5d9",
   "metadata": {},
   "outputs": [
    {
     "data": {
      "text/plain": [
       "['SCALE', 'SCARE', 'SLATE', 'SNARE', 'STALE', 'STARE', 'STATE']"
      ]
     },
     "execution_count": 6,
     "metadata": {},
     "output_type": "execute_result"
    }
   ],
   "source": [
    "q(top10,positions={0:'S',2:'A',4:'E'})"
   ]
  },
  {
   "cell_type": "code",
   "execution_count": 16,
   "id": "7f6ab507",
   "metadata": {},
   "outputs": [
    {
     "data": {
      "text/plain": [
       "['INTRO', 'ONION', 'ROTOR']"
      ]
     },
     "execution_count": 16,
     "metadata": {},
     "output_type": "execute_result"
    }
   ],
   "source": [
    "# SCALE => S-black, C-black, A-black, L-black, E-black\n",
    "q(top10, not_contains=\"SCALE\")"
   ]
  },
  {
   "cell_type": "code",
   "execution_count": 15,
   "id": "73771607",
   "metadata": {},
   "outputs": [
    {
     "name": "stdout",
     "output_type": "stream",
     "text": [
      "{'A': 0, 'C': 0, 'E': 0, 'L': 0, 'S': 0, 'Q': 2, 'X': 5, 'J': 7, 'V': 9, 'Z': 10, 'K': 15, 'W': 32, 'F': 39, 'B': 43, 'P': 49, 'M': 54, 'H': 65, 'G': 67, 'D': 76, 'U': 90, 'Y': 90, 'N': 100, 'T': 113, 'I': 114, 'R': 117, 'O': 178}\n",
      "{'A': 0, 'C': 0, 'E': 0, 'L': 0, 'S': 0, 'X': 0, 'Z': 0, 'Q': 2, 'Y': 2, 'K': 3, 'V': 4, 'J': 6, 'N': 6, 'U': 6, 'I': 8, 'O': 8, 'H': 13, 'R': 14, 'G': 18, 'W': 18, 'M': 20, 'F': 23, 'P': 24, 'D': 26, 'B': 27, 'T': 27}\n",
      "{'A': 0, 'B': 0, 'C': 0, 'E': 0, 'F': 0, 'G': 0, 'K': 0, 'L': 0, 'M': 0, 'Q': 0, 'S': 0, 'T': 0, 'X': 0, 'Z': 0, 'J': 1, 'P': 1, 'D': 2, 'V': 2, 'W': 2, 'Y': 7, 'N': 12, 'H': 17, 'U': 44, 'I': 49, 'R': 49, 'O': 69}\n",
      "{'A': 0, 'C': 0, 'E': 0, 'H': 0, 'J': 0, 'K': 0, 'L': 0, 'Q': 0, 'S': 0, 'Y': 0, 'V': 2, 'X': 2, 'Z': 4, 'F': 5, 'W': 5, 'B': 6, 'P': 6, 'D': 12, 'M': 16, 'T': 16, 'G': 18, 'N': 23, 'R': 26, 'U': 31, 'I': 37, 'O': 46}\n",
      "{'A': 0, 'C': 0, 'E': 0, 'J': 0, 'L': 0, 'Q': 0, 'S': 0, 'Y': 0, 'V': 1, 'X': 2, 'K': 5, 'W': 5, 'Z': 5, 'F': 7, 'B': 8, 'H': 8, 'U': 9, 'M': 10, 'P': 11, 'R': 14, 'D': 15, 'G': 17, 'I': 19, 'O': 36, 'T': 37, 'N': 46}\n",
      "{'A': 0, 'C': 0, 'E': 0, 'J': 0, 'L': 0, 'Q': 0, 'S': 0, 'U': 0, 'V': 0, 'I': 1, 'X': 1, 'Z': 1, 'B': 2, 'W': 2, 'F': 4, 'K': 7, 'P': 7, 'M': 8, 'N': 13, 'G': 14, 'R': 14, 'O': 19, 'D': 21, 'H': 27, 'T': 33, 'Y': 81}\n"
     ]
    },
    {
     "data": {
      "text/plain": [
       "['IRONY', 'IVORY']"
      ]
     },
     "execution_count": 15,
     "metadata": {},
     "output_type": "execute_result"
    }
   ],
   "source": [
    "G2 = q(L, not_contains=\"SCALE\")\n",
    "print(s(G2))\n",
    "print(s([a[0] for a in G2]))\n",
    "print(s([a[1] for a in G2]))\n",
    "print(s([a[2] for a in G2]))\n",
    "print(s([a[3] for a in G2]))\n",
    "print(s([a[4] for a in G2]))\n",
    "q(G2,positions={4:'Y'}, contains=\"ORI\")"
   ]
  },
  {
   "cell_type": "code",
   "execution_count": 25,
   "id": "bec0fc6b",
   "metadata": {},
   "outputs": [
    {
     "data": {
      "text/plain": [
       "['THORN']"
      ]
     },
     "execution_count": 25,
     "metadata": {},
     "output_type": "execute_result"
    }
   ],
   "source": [
    "# IRONY => I-black, R-yellow, O-green, N-yellow, Y-black\n",
    "word = q(L, not_contains = \"SCALEIY\", contains=\"RN\", positions={2:'O'}, not_positions={1:'R', 3:'N'})\n",
    "word"
   ]
  },
  {
   "cell_type": "code",
   "execution_count": null,
   "id": "8d566c79",
   "metadata": {},
   "outputs": [],
   "source": [
    "# THORN => T-green, H-green, O-green, R-green, N-green"
   ]
  }
 ],
 "metadata": {
  "kernelspec": {
   "display_name": "Python 3 (ipykernel)",
   "language": "python",
   "name": "python3"
  },
  "language_info": {
   "codemirror_mode": {
    "name": "ipython",
    "version": 3
   },
   "file_extension": ".py",
   "mimetype": "text/x-python",
   "name": "python",
   "nbconvert_exporter": "python",
   "pygments_lexer": "ipython3",
   "version": "3.8.2"
  }
 },
 "nbformat": 4,
 "nbformat_minor": 5
}
