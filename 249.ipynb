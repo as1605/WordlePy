{
 "cells": [
  {
   "cell_type": "code",
   "execution_count": 1,
   "id": "5d38e96d",
   "metadata": {},
   "outputs": [],
   "source": [
    "from wordle import *"
   ]
  },
  {
   "cell_type": "code",
   "execution_count": 2,
   "id": "82174ebc",
   "metadata": {},
   "outputs": [],
   "source": [
    "L = l()"
   ]
  },
  {
   "cell_type": "code",
   "execution_count": 3,
   "id": "c9d4d1f1",
   "metadata": {},
   "outputs": [],
   "source": [
    "top10 = q(L, not_contains=\"JQXZVWKFBGMPHDYU\")"
   ]
  },
  {
   "cell_type": "code",
   "execution_count": 9,
   "id": "bd53d380",
   "metadata": {},
   "outputs": [
    {
     "data": {
      "text/plain": [
       "['INTRO', 'ONION', 'ROTOR']"
      ]
     },
     "execution_count": 9,
     "metadata": {},
     "output_type": "execute_result"
    }
   ],
   "source": [
    "#g1 is SCALE, calculated in 247, 248 notebook\n",
    "# SCALE => S-black, C-black, A-black, L-black, E-green\n",
    "g2 = q(top10, not_contains=\"SCALE\")\n",
    "g2"
   ]
  },
  {
   "cell_type": "code",
   "execution_count": 39,
   "id": "cf558959",
   "metadata": {},
   "outputs": [
    {
     "name": "stdout",
     "output_type": "stream",
     "text": [
      "['FORTE', 'ROUTE', 'TROPE', 'TROVE', 'WROTE']\n",
      "{'A': 0, 'B': 0, 'C': 0, 'D': 0, 'G': 0, 'H': 0, 'I': 0, 'J': 0, 'K': 0, 'L': 0, 'M': 0, 'N': 0, 'Q': 0, 'S': 0, 'X': 0, 'Y': 0, 'Z': 0, 'F': 1, 'P': 1, 'U': 1, 'V': 1, 'W': 1, 'E': 5, 'O': 5, 'R': 5, 'T': 5}\n",
      "{'J': 27, 'Q': 29, 'X': 37, 'Z': 40, 'V': 152, 'W': 194, 'K': 210, 'F': 229, 'B': 280, 'G': 310, 'M': 316, 'P': 365, 'H': 387, 'D': 393, 'Y': 424, 'U': 466, 'C': 475, 'N': 573, 'S': 668, 'I': 670, 'L': 716, 'T': 729, 'O': 753, 'R': 897, 'A': 975, 'E': 1230}\n",
      "[]\n",
      "[]\n",
      "[]\n",
      "[]\n",
      "[]\n",
      "[]\n",
      "['AWFUL']\n",
      "[]\n",
      "[]\n",
      "[]\n",
      "['PUFFY']\n"
     ]
    }
   ],
   "source": [
    "#g2 is INTRO\n",
    "# INTRO => I-black, N-black, T-yellow, R-yellow, O-yellow\n",
    "g3 = q(L, not_contains=\"SCALIN\", contains=\"TRO\", positions={4:'E'}, not_positions={2:'T', 3:'R', 4:'O'})\n",
    "print(g3)\n",
    "print(s(g3))\n",
    "print(s(L))\n",
    "print(q(L, contains=\"FPUVW\"))\n",
    "print(q(L, contains=\"UVW\"))\n",
    "print(q(L, contains=\"PVW\"))\n",
    "print(q(L, contains=\"PUW\"))\n",
    "print(q(L, contains=\"PUV\"))\n",
    "print(q(L, contains=\"FVW\"))\n",
    "print(q(L, contains=\"FUW\"))\n",
    "print(q(L, contains=\"FUV\"))\n",
    "print(q(L, contains=\"FPW\"))\n",
    "print(q(L, contains=\"FPV\"))\n",
    "print(q(L, contains=\"FPU\"))\n"
   ]
  },
  {
   "cell_type": "code",
   "execution_count": 42,
   "id": "9f200881",
   "metadata": {},
   "outputs": [
    {
     "data": {
      "text/plain": [
       "['TROVE', 'WROTE']"
      ]
     },
     "execution_count": 42,
     "metadata": {},
     "output_type": "execute_result"
    }
   ],
   "source": [
    "# g3 = PUFFY\n",
    "# PUFFY => P-black, U-black, F-black, Y-black\n",
    "q(g3, not_contains=\"PUFY\")"
   ]
  },
  {
   "cell_type": "code",
   "execution_count": 43,
   "id": "0cbb9a95",
   "metadata": {},
   "outputs": [],
   "source": [
    "# g4 = TROVE\n",
    "# g5 = WROTE\n",
    "# Wordle 249 5/6\n",
    "\n",
    "# ⬛⬛⬛⬛🟩\n",
    "# ⬛⬛🟨🟨🟨\n",
    "# ⬛⬛⬛⬛⬛\n",
    "# ⬛🟩🟩🟨🟩\n",
    "# 🟩🟩🟩🟩🟩"
   ]
  },
  {
   "cell_type": "code",
   "execution_count": null,
   "id": "1b1feebd",
   "metadata": {},
   "outputs": [],
   "source": []
  }
 ],
 "metadata": {
  "kernelspec": {
   "display_name": "Python 3 (ipykernel)",
   "language": "python",
   "name": "python3"
  },
  "language_info": {
   "codemirror_mode": {
    "name": "ipython",
    "version": 3
   },
   "file_extension": ".py",
   "mimetype": "text/x-python",
   "name": "python",
   "nbconvert_exporter": "python",
   "pygments_lexer": "ipython3",
   "version": "3.8.2"
  }
 },
 "nbformat": 4,
 "nbformat_minor": 5
}
