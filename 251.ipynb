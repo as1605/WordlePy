{
 "cells": [
  {
   "cell_type": "code",
   "execution_count": 1,
   "id": "cdedefd8",
   "metadata": {},
   "outputs": [],
   "source": [
    "from wordle import *"
   ]
  },
  {
   "cell_type": "code",
   "execution_count": 2,
   "id": "7f1e27ad",
   "metadata": {},
   "outputs": [],
   "source": [
    "# g1 is SCALE\n",
    "# SCALE => S-black, C-black, A-black, L-black, E-black\n",
    "# g2 is INTRO\n",
    "# INTRO => I-yellow, N-black, T-black, R-black, O-black"
   ]
  },
  {
   "cell_type": "code",
   "execution_count": 3,
   "id": "49796400",
   "metadata": {},
   "outputs": [],
   "source": [
    "L = l()"
   ]
  },
  {
   "cell_type": "code",
   "execution_count": 10,
   "id": "21975b92",
   "metadata": {},
   "outputs": [
    {
     "name": "stdout",
     "output_type": "stream",
     "text": [
      "{'A': 0, 'C': 0, 'E': 0, 'K': 0, 'L': 0, 'N': 0, 'O': 0, 'Q': 0, 'R': 0, 'S': 0, 'T': 0, 'X': 0, 'B': 1, 'J': 1, 'U': 1, 'M': 2, 'V': 2, 'W': 2, 'G': 3, 'H': 3, 'P': 4, 'Z': 4, 'F': 5, 'D': 7, 'Y': 8, 'I': 12}\n"
     ]
    },
    {
     "data": {
      "text/plain": [
       "['BUDDY', 'DUMMY', 'DUMPY', 'MUDDY', 'PUDGY']"
      ]
     },
     "execution_count": 10,
     "metadata": {},
     "output_type": "execute_result"
    }
   ],
   "source": [
    "g3 = q(L, contains='I', not_contains=\"SCALENTRO\", not_positions={0:'I'})\n",
    "print(s(g3))\n",
    "q(L, not_contains='SCALEINTROCKQX', contains=\"YD\")"
   ]
  },
  {
   "cell_type": "code",
   "execution_count": 14,
   "id": "efd2491a",
   "metadata": {},
   "outputs": [
    {
     "data": {
      "text/plain": [
       "['VIVID']"
      ]
     },
     "execution_count": 14,
     "metadata": {},
     "output_type": "execute_result"
    }
   ],
   "source": [
    "# g3 is PUDGY\n",
    "# PUDGY => P-black, U-black, D-yellow, G-black, Y-black\n",
    "g4 = q(L, contains=\"ID\", not_contains=\"SCALENTROPUGY\")\n",
    "g4"
   ]
  },
  {
   "cell_type": "code",
   "execution_count": null,
   "id": "7e68ad63",
   "metadata": {},
   "outputs": [],
   "source": [
    "# Wordle 251 4/6\n",
    "\n",
    "# ⬛⬛⬛⬛⬛\n",
    "# 🟨⬛⬛⬛⬛\n",
    "# ⬛⬛🟨⬛⬛\n",
    "# 🟩🟩🟩🟩🟩"
   ]
  }
 ],
 "metadata": {
  "kernelspec": {
   "display_name": "Python 3 (ipykernel)",
   "language": "python",
   "name": "python3"
  },
  "language_info": {
   "codemirror_mode": {
    "name": "ipython",
    "version": 3
   },
   "file_extension": ".py",
   "mimetype": "text/x-python",
   "name": "python",
   "nbconvert_exporter": "python",
   "pygments_lexer": "ipython3",
   "version": "3.8.2"
  }
 },
 "nbformat": 4,
 "nbformat_minor": 5
}
