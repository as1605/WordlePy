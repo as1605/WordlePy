{
 "cells": [
  {
   "cell_type": "code",
   "execution_count": 1,
   "id": "4054ab59",
   "metadata": {},
   "outputs": [],
   "source": [
    "from wordle import *"
   ]
  },
  {
   "cell_type": "code",
   "execution_count": 3,
   "id": "20259db0",
   "metadata": {},
   "outputs": [],
   "source": [
    "L = l()\n",
    "# G1 is SCALE\n",
    "# SCALE => S-g, C-b, A-b, L-g, E-b"
   ]
  },
  {
   "cell_type": "code",
   "execution_count": 16,
   "id": "15ca8888",
   "metadata": {},
   "outputs": [
    {
     "name": "stdout",
     "output_type": "stream",
     "text": [
      "['SHYLY', 'SILLY', 'SKILL', 'SKULK', 'SKULL', 'SLYLY', 'SPILL', 'SPILT', 'STILL', 'STILT', 'SULLY', 'SURLY', 'SWILL']\n",
      "['HYY', 'ILY', 'KIL', 'KUK', 'KUL', 'LYY', 'PIL', 'PIT', 'TIL', 'TIT', 'ULY', 'URY', 'WIL']\n",
      "{'A': 0, 'B': 0, 'C': 0, 'D': 0, 'E': 0, 'F': 0, 'G': 0, 'J': 0, 'M': 0, 'N': 0, 'O': 0, 'Q': 0, 'S': 0, 'V': 0, 'X': 0, 'Z': 0, 'H': 1, 'R': 1, 'W': 1, 'P': 2, 'K': 4, 'T': 4, 'U': 4, 'I': 7, 'Y': 7, 'L': 8}\n",
      "['JUICY', 'UNIFY', 'UNITY']\n",
      "['AMITY', 'BITTY', 'DEITY', 'DIRTY', 'DITTY', 'FIFTY', 'ITCHY', 'KITTY', 'MINTY', 'PIETY', 'PITHY', 'SIXTY', 'TIPSY', 'TYING', 'UNITY', 'WITTY']\n",
      "['KINKY', 'KITTY', 'MILKY', 'PICKY', 'PINKY', 'RISKY', 'SILKY', 'SPIKY']\n"
     ]
    }
   ],
   "source": [
    "g2 = q(L, positions={0:'S', 3:'L'}, not_contains=\"CAE\")\n",
    "print(g2)\n",
    "g2a = [a[1]+a[2]+a[4] for a in g2]\n",
    "print(g2a)\n",
    "print(s(g2a))\n",
    "\n",
    "print(q(L, contains=\"YIU\"))\n",
    "print(q(L, contains=\"YIT\"))\n",
    "print(q(L, contains=\"YIK\"))"
   ]
  },
  {
   "cell_type": "code",
   "execution_count": 25,
   "id": "d24cab6b",
   "metadata": {},
   "outputs": [
    {
     "name": "stdout",
     "output_type": "stream",
     "text": [
      "['SKILL', 'SPILL', 'SWILL']\n"
     ]
    },
    {
     "data": {
      "text/plain": [
       "['SKIMP', 'SPANK', 'SPARK', 'SPEAK', 'SPECK', 'SPOOK', 'SPUNK']"
      ]
     },
     "execution_count": 25,
     "metadata": {},
     "output_type": "execute_result"
    }
   ],
   "source": [
    "# let g2 be UNITY\n",
    "# UNITY => U-b, N-b, I-g, T-b, Y-b\n",
    "g3 = q(L, not_contains=\"CAEUNTY\", positions={0:'S', 3:'L', 2:'I'})\n",
    "print(g3)\n",
    "q(q(L, contains=\"KP\", not_positions={0:'K', 2:'K', 3:'K'}), not_positions={0:'P', 3:'P', 2:'P'})"
   ]
  },
  {
   "cell_type": "code",
   "execution_count": 28,
   "id": "4753d622",
   "metadata": {},
   "outputs": [],
   "source": [
    "# let g3 be SKIMP\n",
    "# SKIMP => S-g, K-b, I-g, M-b, P-y\n",
    "# g4 is SPILL\n",
    "# Wordle 252 4/6\n",
    "\n",
    "# 🟩⬛⬛🟩⬛\n",
    "# ⬛⬛🟩⬛⬛\n",
    "# 🟩⬛🟩⬛🟨\n",
    "# 🟩🟩🟩🟩🟩"
   ]
  },
  {
   "cell_type": "code",
   "execution_count": null,
   "id": "98e0d3e6",
   "metadata": {},
   "outputs": [],
   "source": []
  }
 ],
 "metadata": {
  "kernelspec": {
   "display_name": "Python 3 (ipykernel)",
   "language": "python",
   "name": "python3"
  },
  "language_info": {
   "codemirror_mode": {
    "name": "ipython",
    "version": 3
   },
   "file_extension": ".py",
   "mimetype": "text/x-python",
   "name": "python",
   "nbconvert_exporter": "python",
   "pygments_lexer": "ipython3",
   "version": "3.8.2"
  }
 },
 "nbformat": 4,
 "nbformat_minor": 5
}
