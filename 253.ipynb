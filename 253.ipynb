{
 "cells": [
  {
   "cell_type": "code",
   "execution_count": 1,
   "id": "fb0c6ba2",
   "metadata": {},
   "outputs": [],
   "source": [
    "from wordle import *"
   ]
  },
  {
   "cell_type": "code",
   "execution_count": 18,
   "id": "89338f63",
   "metadata": {},
   "outputs": [
    {
     "name": "stdout",
     "output_type": "stream",
     "text": [
      "['ABACK', 'CHAFF', 'CHAIN', 'CHAIR', 'CHAMP', 'CHANT', 'CHARD', 'CHARM', 'CHART', 'COACH', 'CRACK', 'CRAFT', 'CRAMP', 'CRANK', 'CRAZY', 'KNACK', 'QUACK', 'ROACH', 'TRACK', 'TRACT', 'WHACK', 'WRACK']\n",
      "{'E': 0, 'G': 0, 'J': 0, 'L': 0, 'S': 0, 'V': 0, 'X': 0, 'B': 1, 'D': 1, 'Q': 1, 'U': 1, 'Y': 1, 'Z': 1, 'I': 2, 'O': 2, 'P': 2, 'W': 2, 'F': 3, 'M': 3, 'N': 4, 'T': 6, 'K': 9, 'H': 11, 'R': 13, 'A': 23, 'C': 24}\n"
     ]
    },
    {
     "data": {
      "text/plain": [
       "['NORTH', 'THORN']"
      ]
     },
     "execution_count": 18,
     "metadata": {},
     "output_type": "execute_result"
    }
   ],
   "source": [
    "# g1 be SCALE\n",
    "# SCALE -> S-b, C-y, A-g, L-b, E-b\n",
    "g2 = q(l(), not_contains=\"SLE\", contains=\"C\", positions={2:'A'}, not_positions={1:'C'})\n",
    "print(g2)\n",
    "print(s(g2))\n",
    "q(l(), not_contains=\"SCALE\", contains=\"RHTN\")\n",
    "# TODO: function to calculate probability based on position"
   ]
  },
  {
   "cell_type": "code",
   "execution_count": 21,
   "id": "3126bac0",
   "metadata": {},
   "outputs": [
    {
     "data": {
      "text/plain": [
       "['CHANT']"
      ]
     },
     "execution_count": 21,
     "metadata": {},
     "output_type": "execute_result"
    }
   ],
   "source": [
    "# g2 be NORTH\n",
    "# NORTH=> N-y, O-b, R-b, T-y, H-y\n",
    "q(l(), contains=\"NCTH\", positions={2:'A'}, not_positions={0:'N', 1:'C', 3:'T', 4:'H'}, not_contains=\"SLEOR\")"
   ]
  },
  {
   "cell_type": "code",
   "execution_count": null,
   "id": "dc6b246e",
   "metadata": {},
   "outputs": [],
   "source": [
    "# Wordle 253 3/6\n",
    "\n",
    "# ⬛🟨🟩⬛⬛\n",
    "# 🟨⬛⬛🟨🟨\n",
    "# 🟩🟩🟩🟩🟩"
   ]
  }
 ],
 "metadata": {
  "kernelspec": {
   "display_name": "Python 3 (ipykernel)",
   "language": "python",
   "name": "python3"
  },
  "language_info": {
   "codemirror_mode": {
    "name": "ipython",
    "version": 3
   },
   "file_extension": ".py",
   "mimetype": "text/x-python",
   "name": "python",
   "nbconvert_exporter": "python",
   "pygments_lexer": "ipython3",
   "version": "3.8.2"
  }
 },
 "nbformat": 4,
 "nbformat_minor": 5
}
