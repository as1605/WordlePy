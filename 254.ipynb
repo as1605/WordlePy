{
 "cells": [
  {
   "cell_type": "code",
   "execution_count": 1,
   "id": "25f32df0",
   "metadata": {},
   "outputs": [],
   "source": [
    "from wordle import *"
   ]
  },
  {
   "cell_type": "code",
   "execution_count": 30,
   "id": "02fb00a5",
   "metadata": {},
   "outputs": [
    {
     "name": "stdout",
     "output_type": "stream",
     "text": [
      "{'A': 0, 'B': 0, 'G': 0, 'L': 0, 'Q': 0, 'S': 0, 'X': 0, 'Y': 0, 'Z': 0, 'J': 1, 'K': 1, 'F': 2, 'V': 2, 'W': 2, 'D': 4, 'M': 5, 'P': 5, 'T': 5, 'H': 7, 'O': 7, 'E': 10, 'N': 10, 'U': 10, 'R': 11, 'I': 14, 'C': 32}\n",
      "['DRUID', 'FRUIT', 'QUIRK']\n",
      "['BRING', 'BRINK', 'BRINY', 'DRINK', 'GRIND', 'GROIN', 'INTRO', 'IRONY', 'MINOR', 'PRINT', 'RHINO', 'ROBIN', 'WRING']\n",
      "[]\n",
      "['RHINO']\n"
     ]
    }
   ],
   "source": [
    "# g1 is SCALE\n",
    "# SCALE => S-b, C-y, A-b, L-b, E-g\n",
    "w = q(l(), not_contains =\"SAL\", contains=\"C\", positions={4:'E'}, not_positions={1:'C'})\n",
    "g2_w = [a[0] + a[1] + a[2] + a[3] for a in w]\n",
    "print(s(g2_w))\n",
    "g2 = q(l(), not_contains=\"SCALE\")\n",
    "print(q(g2, contains=\"IRU\"))\n",
    "print(q(g2, contains=\"IRN\"))\n",
    "print(q(g2, contains=\"IRE\"))\n",
    "print(q(g2, contains=\"IRNHO\"))"
   ]
  },
  {
   "cell_type": "code",
   "execution_count": 31,
   "id": "d426d89a",
   "metadata": {
    "scrolled": true
   },
   "outputs": [
    {
     "data": {
      "text/plain": [
       "['CHOKE']"
      ]
     },
     "execution_count": 31,
     "metadata": {},
     "output_type": "execute_result"
    }
   ],
   "source": [
    "# g2 is RHINO\n",
    "# RHINO => R-b, H-g, I-b, N-b, O-y\n",
    "w = q(w, not_contains=\"RIN\", contains=\"O\", not_positions={4:'O'}, positions={1:'H'})\n",
    "w"
   ]
  },
  {
   "cell_type": "code",
   "execution_count": null,
   "id": "78611336",
   "metadata": {},
   "outputs": [],
   "source": [
    "# Wordle 254 3/6\n",
    "\n",
    "# ⬛🟨⬛⬛🟩\n",
    "# ⬛🟩⬛⬛🟨\n",
    "# 🟩🟩🟩🟩🟩"
   ]
  }
 ],
 "metadata": {
  "kernelspec": {
   "display_name": "Python 3 (ipykernel)",
   "language": "python",
   "name": "python3"
  },
  "language_info": {
   "codemirror_mode": {
    "name": "ipython",
    "version": 3
   },
   "file_extension": ".py",
   "mimetype": "text/x-python",
   "name": "python",
   "nbconvert_exporter": "python",
   "pygments_lexer": "ipython3",
   "version": "3.8.9"
  }
 },
 "nbformat": 4,
 "nbformat_minor": 5
}
