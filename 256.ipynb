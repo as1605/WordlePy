{
 "cells": [
  {
   "cell_type": "code",
   "execution_count": 1,
   "id": "1b0ed673",
   "metadata": {},
   "outputs": [],
   "source": [
    "from wordle import *"
   ]
  },
  {
   "cell_type": "code",
   "execution_count": 18,
   "id": "a7a4305c",
   "metadata": {},
   "outputs": [],
   "source": [
    "L = l()"
   ]
  },
  {
   "cell_type": "code",
   "execution_count": 19,
   "id": "40f26236",
   "metadata": {},
   "outputs": [
    {
     "name": "stdout",
     "output_type": "stream",
     "text": [
      "{'C': 0, 'E': 0, 'F': 0, 'J': 0, 'K': 0, 'L': 0, 'Q': 0, 'U': 0, 'X': 0, 'Z': 0, 'D': 1, 'V': 1, 'W': 1, 'G': 2, 'O': 2, 'B': 3, 'M': 3, 'H': 4, 'P': 5, 'R': 5, 'I': 6, 'N': 6, 'T': 11, 'Y': 12, 'A': 25, 'S': 28}\n"
     ]
    },
    {
     "data": {
      "text/plain": [
       "['MINTY', 'TYING', 'UNITY']"
      ]
     },
     "execution_count": 19,
     "metadata": {},
     "output_type": "execute_result"
    }
   ],
   "source": [
    "# g1 is SCALE\n",
    "# SCALE => S-y, C-b, A-y, L-b, E-b\n",
    "L = q(L, contains=\"SA\", not_contains=\"CLE\", not_positions={0:'S', 2:'A'})\n",
    "print(s(L))\n",
    "q(l(), not_contains=\"SCALE\", contains=\"YTNI\")\n"
   ]
  },
  {
   "cell_type": "code",
   "execution_count": 20,
   "id": "a285125f",
   "metadata": {},
   "outputs": [
    {
     "data": {
      "text/plain": [
       "['NASTY']"
      ]
     },
     "execution_count": 20,
     "metadata": {},
     "output_type": "execute_result"
    }
   ],
   "source": [
    "# M>U>G so MINTY? TODO: should check position wise stats\n",
    "# MINTY => M-b, I-b, N-y, T-g, Y-g\n",
    "L = q(L, not_contains=\"MI\", contains=\"N\", positions={3:'T', 4:'Y'}, not_positions={2:'N'})\n",
    "L"
   ]
  },
  {
   "cell_type": "code",
   "execution_count": 21,
   "id": "ee420803",
   "metadata": {},
   "outputs": [],
   "source": [
    "# Wordle 256 3/6\n",
    "\n",
    "# 🟨⬛🟨⬛⬛\n",
    "# ⬛⬛🟨🟩🟩\n",
    "# 🟩🟩🟩🟩🟩"
   ]
  },
  {
   "cell_type": "code",
   "execution_count": null,
   "id": "c7eef51f",
   "metadata": {},
   "outputs": [],
   "source": []
  }
 ],
 "metadata": {
  "kernelspec": {
   "display_name": "Python 3 (ipykernel)",
   "language": "python",
   "name": "python3"
  },
  "language_info": {
   "codemirror_mode": {
    "name": "ipython",
    "version": 3
   },
   "file_extension": ".py",
   "mimetype": "text/x-python",
   "name": "python",
   "nbconvert_exporter": "python",
   "pygments_lexer": "ipython3",
   "version": "3.8.9"
  }
 },
 "nbformat": 4,
 "nbformat_minor": 5
}
