{
 "cells": [
  {
   "cell_type": "code",
   "execution_count": 1,
   "id": "3d8a7733",
   "metadata": {},
   "outputs": [],
   "source": [
    "from wordle import *"
   ]
  },
  {
   "cell_type": "code",
   "execution_count": 2,
   "id": "89db9880",
   "metadata": {},
   "outputs": [],
   "source": [
    "L = l()"
   ]
  },
  {
   "cell_type": "code",
   "execution_count": 4,
   "id": "81d9df1f",
   "metadata": {},
   "outputs": [
    {
     "name": "stdout",
     "output_type": "stream",
     "text": [
      "{'A': 0, 'C': 0, 'E': 0, 'L': 0, 'S': 0, 'Q': 2, 'X': 5, 'J': 7, 'V': 9, 'Z': 10, 'K': 15, 'W': 32, 'F': 39, 'B': 43, 'P': 49, 'M': 54, 'H': 65, 'G': 67, 'D': 76, 'U': 90, 'Y': 90, 'N': 100, 'T': 113, 'I': 114, 'R': 117, 'O': 178}\n"
     ]
    },
    {
     "data": {
      "text/plain": [
       "['INTRO']"
      ]
     },
     "execution_count": 4,
     "metadata": {},
     "output_type": "execute_result"
    }
   ],
   "source": [
    "# g1 is SCALE\n",
    "# SCALE => S-b, C-b, A-b, L-b, E-b\n",
    "L = q(L, not_contains=\"SCALE\")\n",
    "print(s(L))\n",
    "q(L, contains=\"ORITN\")"
   ]
  },
  {
   "cell_type": "code",
   "execution_count": 6,
   "id": "70fc084e",
   "metadata": {},
   "outputs": [
    {
     "data": {
      "text/plain": [
       "['MOURN']"
      ]
     },
     "execution_count": 6,
     "metadata": {},
     "output_type": "execute_result"
    }
   ],
   "source": [
    "# g2 is INTRO\n",
    "# INTRO => I-b, N-y, T-b, R-g, O-y\n",
    "L = q(L, not_contains=\"IT\", contains=\"NO\", positions={3:'R'}, not_positions={1:'N', 4:'O'})\n",
    "L"
   ]
  },
  {
   "cell_type": "code",
   "execution_count": null,
   "id": "4772e9b0",
   "metadata": {},
   "outputs": [],
   "source": [
    "# Wordle 257 3/6\n",
    "\n",
    "# ⬛⬛⬛⬛⬛\n",
    "# ⬛🟨⬛🟩🟨\n",
    "# 🟩🟩🟩🟩🟩"
   ]
  }
 ],
 "metadata": {
  "kernelspec": {
   "display_name": "Python 3 (ipykernel)",
   "language": "python",
   "name": "python3"
  },
  "language_info": {
   "codemirror_mode": {
    "name": "ipython",
    "version": 3
   },
   "file_extension": ".py",
   "mimetype": "text/x-python",
   "name": "python",
   "nbconvert_exporter": "python",
   "pygments_lexer": "ipython3",
   "version": "3.8.9"
  }
 },
 "nbformat": 4,
 "nbformat_minor": 5
}
