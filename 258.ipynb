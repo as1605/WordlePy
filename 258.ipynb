{
 "cells": [
  {
   "cell_type": "code",
   "execution_count": 1,
   "id": "e578b0ef",
   "metadata": {},
   "outputs": [],
   "source": [
    "from wordle import *"
   ]
  },
  {
   "cell_type": "code",
   "execution_count": 2,
   "id": "2b1ebc40",
   "metadata": {},
   "outputs": [],
   "source": [
    "L = l()"
   ]
  },
  {
   "cell_type": "code",
   "execution_count": 10,
   "id": "74315505",
   "metadata": {},
   "outputs": [
    {
     "name": "stdout",
     "output_type": "stream",
     "text": [
      "{'C': 0, 'J': 0, 'L': 0, 'Q': 0, 'S': 0, 'U': 0, 'I': 2, 'Z': 2, 'F': 3, 'O': 3, 'X': 3, 'V': 5, 'Y': 6, 'W': 8, 'H': 9, 'P': 9, 'K': 11, 'D': 12, 'G': 12, 'M': 12, 'B': 14, 'N': 19, 'T': 25, 'R': 51, 'A': 74, 'E': 75}\n",
      "['BRUNT', 'BURNT']\n",
      "[]\n",
      "['GRUNT']\n",
      "[]\n",
      "['TRUNK']\n"
     ]
    }
   ],
   "source": [
    "# g1 is SCALE\n",
    "# SCALE => bbyby\n",
    "L = q(L, not_contains=\"SCL\", contains=\"AE\", not_positions={2:'A', 4:'E'})\n",
    "print(s(L))\n",
    "print(q(l(), not_contains=\"SCALE\", contains=\"RTNB\"))\n",
    "print(q(l(), not_contains=\"SCALE\", contains=\"RTNM\"))\n",
    "print(q(l(), not_contains=\"SCALE\", contains=\"RTNG\"))\n",
    "print(q(l(), not_contains=\"SCALE\", contains=\"RTND\"))\n",
    "print(q(l(), not_contains=\"SCALE\", contains=\"RTNK\"))"
   ]
  },
  {
   "cell_type": "code",
   "execution_count": 16,
   "id": "f84cf0ce",
   "metadata": {},
   "outputs": [
    {
     "data": {
      "text/plain": [
       "['AHEAD', 'MEDIA', 'OMEGA']"
      ]
     },
     "execution_count": 16,
     "metadata": {},
     "output_type": "execute_result"
    }
   ],
   "source": [
    "# g2 is BRUNT\n",
    "# BRUNT => bbbbb\n",
    "L = q(L, not_contains=\"BRUNT\")\n",
    "L"
   ]
  },
  {
   "cell_type": "code",
   "execution_count": 19,
   "id": "bf339937",
   "metadata": {},
   "outputs": [
    {
     "data": {
      "text/plain": [
       "['AHEAD']"
      ]
     },
     "execution_count": 19,
     "metadata": {},
     "output_type": "execute_result"
    }
   ],
   "source": [
    "# g3 is MEDIA\n",
    "# MEDIA => byyby\n",
    "L = q(L, not_contains=\"MI\", contains=\"EDA\")\n",
    "L"
   ]
  },
  {
   "cell_type": "code",
   "execution_count": null,
   "id": "c4897d27",
   "metadata": {},
   "outputs": [],
   "source": [
    "# Wordle 258 4/6\n",
    "\n",
    "# ⬛⬛🟨⬛🟨\n",
    "# ⬛⬛⬛⬛⬛\n",
    "# ⬛🟨🟨⬛🟨\n",
    "# 🟩🟩🟩🟩🟩"
   ]
  }
 ],
 "metadata": {
  "kernelspec": {
   "display_name": "Python 3 (ipykernel)",
   "language": "python",
   "name": "python3"
  },
  "language_info": {
   "codemirror_mode": {
    "name": "ipython",
    "version": 3
   },
   "file_extension": ".py",
   "mimetype": "text/x-python",
   "name": "python",
   "nbconvert_exporter": "python",
   "pygments_lexer": "ipython3",
   "version": "3.8.9"
  }
 },
 "nbformat": 4,
 "nbformat_minor": 5
}
