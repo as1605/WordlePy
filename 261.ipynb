{
 "cells": [
  {
   "cell_type": "code",
   "execution_count": 26,
   "id": "489dc9d8",
   "metadata": {},
   "outputs": [],
   "source": [
    "from wordle import *"
   ]
  },
  {
   "cell_type": "code",
   "execution_count": 27,
   "id": "c0264e71",
   "metadata": {},
   "outputs": [],
   "source": [
    "L = l()"
   ]
  },
  {
   "cell_type": "code",
   "execution_count": 28,
   "id": "591b21e5",
   "metadata": {},
   "outputs": [
    {
     "name": "stdout",
     "output_type": "stream",
     "text": [
      "{'C': 0, 'E': 0, 'J': 0, 'L': 0, 'S': 0, 'X': 0, 'Z': 0, 'Q': 2, 'M': 3, 'V': 4, 'Y': 4, 'U': 5, 'B': 6, 'H': 6, 'O': 6, 'F': 7, 'K': 7, 'P': 7, 'W': 9, 'G': 11, 'I': 13, 'D': 16, 'T': 16, 'N': 18, 'R': 36, 'A': 54}\n"
     ]
    },
    {
     "data": {
      "text/plain": [
       "['DRINK', 'GRIND']"
      ]
     },
     "execution_count": 28,
     "metadata": {},
     "output_type": "execute_result"
    }
   ],
   "source": [
    "#g1 = SCALE\n",
    "# SCALE => bbgbb\n",
    "L = q(L, not_contains=\"SCLE\", positions={2:'A'})\n",
    "print(s(L))\n",
    "q(l(), not_contains=\"SCALE\", contains=\"RNID\")"
   ]
  },
  {
   "cell_type": "code",
   "execution_count": 29,
   "id": "54cb90cd",
   "metadata": {},
   "outputs": [
    {
     "data": {
      "text/plain": [
       "['AWARD', 'BOARD', 'HOARD']"
      ]
     },
     "execution_count": 29,
     "metadata": {},
     "output_type": "execute_result"
    }
   ],
   "source": [
    "#g2 = GRIND\n",
    "# GRIND => bybbg\n",
    "L = q(L, not_contains=\"GIN\", contains='R', positions={4:'D'}, not_positions={1:'R'})\n",
    "L"
   ]
  },
  {
   "cell_type": "code",
   "execution_count": null,
   "id": "7b1e76a4",
   "metadata": {},
   "outputs": [],
   "source": [
    "#g3 = HOARD\n",
    "# HOARD => ggggg\n",
    "# Wordle 261 3/6\n",
    "\n",
    "# ⬛⬛🟩⬛⬛\n",
    "# ⬛🟨⬛⬛🟩\n",
    "# 🟩🟩🟩🟩🟩"
   ]
  }
 ],
 "metadata": {
  "kernelspec": {
   "display_name": "Python 3 (ipykernel)",
   "language": "python",
   "name": "python3"
  },
  "language_info": {
   "codemirror_mode": {
    "name": "ipython",
    "version": 3
   },
   "file_extension": ".py",
   "mimetype": "text/x-python",
   "name": "python",
   "nbconvert_exporter": "python",
   "pygments_lexer": "ipython3",
   "version": "3.8.9"
  }
 },
 "nbformat": 4,
 "nbformat_minor": 5
}
